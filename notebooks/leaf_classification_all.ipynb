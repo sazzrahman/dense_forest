{
 "cells": [
  {
   "cell_type": "code",
   "execution_count": 8,
   "metadata": {},
   "outputs": [],
   "source": [
    "# Importing necessary dependencies. \n",
    "import pandas as pd\n",
    "import numpy as np\n",
    "import seaborn as sns\n",
    "import matplotlib.pyplot as plt\n",
    "def warn(*args,**kwargs):pass\n",
    "import warnings\n",
    "warnings.warn = warn \n",
    "from sklearn.preprocessing import LabelEncoder\n",
    "from sklearn.model_selection import StratifiedShuffleSplit\n",
    "import sys\n",
    "import os\n",
    "import zipfile"
   ]
  },
  {
   "cell_type": "code",
   "execution_count": 17,
   "metadata": {},
   "outputs": [],
   "source": [
    "datasets_path = os.path.join(\"..\",\"data\")\n",
    "zip_file_path = os.path.join(datasets_path, \"leaf-classification.zip\")\n",
    "train_file_path = os.path.join(datasets_path, \"train.csv.zip\")\n",
    "test_file_path = os.path.join(datasets_path,\"test.csv.zip\")"
   ]
  },
  {
   "cell_type": "code",
   "execution_count": 18,
   "metadata": {},
   "outputs": [],
   "source": [
    "#unzip file and setup using python\n",
    "\n",
    "with zipfile.ZipFile(zip_file_path,\"r\") as z:\n",
    "    z.extractall(datasets_path)\n",
    "    \n",
    "with zipfile.ZipFile(train_file_path,\"r\") as z:\n",
    "    z.extractall(datasets_path)\n",
    "    \n",
    "with zipfile.ZipFile(test_file_path,\"r\") as z:\n",
    "    z.extractall(datasets_path)"
   ]
  },
  {
   "cell_type": "code",
   "execution_count": 22,
   "metadata": {},
   "outputs": [],
   "source": [
    "train = pd.read_csv(os.path.join(datasets_path,\"train.csv\"))\n",
    "test = pd.read_csv(os.path.join(datasets_path,\"test.csv\"))"
   ]
  },
  {
   "cell_type": "markdown",
   "metadata": {},
   "source": [
    "### Objective : Predict species based on available features\n",
    "+ It's a multiclass classification problem with probably 100+ classes each\n",
    "\n"
   ]
  },
  {
   "cell_type": "code",
   "execution_count": 26,
   "metadata": {},
   "outputs": [
    {
     "data": {
      "text/plain": [
       "Prunus_X_Shmittii              10\n",
       "Rhododendron_x_Russellianum    10\n",
       "Populus_Adenopoda              10\n",
       "Acer_Rufinerve                 10\n",
       "Acer_Palmatum                  10\n",
       "                               ..\n",
       "Quercus_Hartwissiana           10\n",
       "Quercus_Infectoria_sub         10\n",
       "Quercus_Pyrenaica              10\n",
       "Quercus_Afares                 10\n",
       "Quercus_x_Hispanica            10\n",
       "Name: species, Length: 99, dtype: int64"
      ]
     },
     "execution_count": 26,
     "metadata": {},
     "output_type": "execute_result"
    }
   ],
   "source": [
    "train[\"species\"].value_counts()"
   ]
  },
  {
   "cell_type": "code",
   "execution_count": 30,
   "metadata": {},
   "outputs": [],
   "source": [
    "# Label Encoding\n",
    "le = LabelEncoder().fit(train[\"species\"])\n",
    "labels = le.transform(train[\"species\"])\n",
    "classes = list(le.classes_)\n",
    "test_ids = test[\"id\"]\n",
    "train = train.drop(['species','id'],axis=1)\n",
    "test = test.drop(['id'],axis=1)"
   ]
  },
  {
   "cell_type": "code",
   "execution_count": 98,
   "metadata": {},
   "outputs": [],
   "source": [
    "# Stratfied Shuffle split makes sure validation set contains similar class distributions\n",
    "sss = StratifiedShuffleSplit(n_splits = 10,test_size=0.2,random_state=23)"
   ]
  },
  {
   "cell_type": "code",
   "execution_count": 60,
   "metadata": {},
   "outputs": [],
   "source": [
    "for train_indices, valid_indices in sss.split(train,labels):\n",
    "    X_train, X_valid = train.values[train_indices],train.values[valid_indices]\n",
    "    y_train, y_valid = labels[train_indices], labels[valid_indices]"
   ]
  },
  {
   "cell_type": "code",
   "execution_count": 83,
   "metadata": {},
   "outputs": [
    {
     "data": {
      "text/plain": [
       "((990,), (990, 192))"
      ]
     },
     "execution_count": 83,
     "metadata": {},
     "output_type": "execute_result"
    }
   ],
   "source": [
    "labels.shape, train.shape"
   ]
  },
  {
   "cell_type": "code",
   "execution_count": 78,
   "metadata": {},
   "outputs": [
    {
     "data": {
      "text/plain": [
       "((792, 192), (198, 192), (792,), (198,))"
      ]
     },
     "execution_count": 78,
     "metadata": {},
     "output_type": "execute_result"
    }
   ],
   "source": [
    "X_train.shape, X_valid.shape, y_train.shape, y_valid.shape"
   ]
  },
  {
   "cell_type": "code",
   "execution_count": 70,
   "metadata": {},
   "outputs": [],
   "source": [
    "# Import Sklearn Models \n",
    "from sklearn.metrics import accuracy_score, log_loss\n",
    "from sklearn.neighbors import KNeighborsClassifier\n",
    "from sklearn.svm import SVC, LinearSVC,NuSVC\n",
    "from sklearn.tree import DecisionTreeClassifier\n",
    "from sklearn.ensemble import RandomForestClassifier, AdaBoostClassifier, GradientBoostingClassifier\n",
    "from sklearn.naive_bayes import GaussianNB\n",
    "from sklearn.discriminant_analysis import LinearDiscriminantAnalysis, QuadraticDiscriminantAnalysis"
   ]
  },
  {
   "cell_type": "code",
   "execution_count": 72,
   "metadata": {},
   "outputs": [],
   "source": [
    "# Instantiate all classifiers in a pipeline\n",
    "classifiers = [KNeighborsClassifier(3),\n",
    "               SVC(kernel=\"rbf\", C=0.025, probability= True),\n",
    "               NuSVC(probability = True),\n",
    "               DecisionTreeClassifier(),\n",
    "               RandomForestClassifier(),\n",
    "               AdaBoostClassifier(),\n",
    "               GradientBoostingClassifier(),\n",
    "               GaussianNB(),\n",
    "               LinearDiscriminantAnalysis(),\n",
    "               QuadraticDiscriminantAnalysis()]"
   ]
  },
  {
   "cell_type": "code",
   "execution_count": 74,
   "metadata": {},
   "outputs": [],
   "source": [
    "log_cols = [\"Classifier\", \"Accuracy\", \"Log Loss\"]\n",
    "log = pd.DataFrame(columns=log_cols)"
   ]
  },
  {
   "cell_type": "code",
   "execution_count": 97,
   "metadata": {},
   "outputs": [
    {
     "name": "stdout",
     "output_type": "stream",
     "text": [
      "==============================\n",
      "KNeighborsClassifier\n",
      "***Results****\n",
      "Accuracy 0.8888888888888888\n",
      "Log Loss 1.5755075129933762\n",
      "======================================\n",
      "==============================\n",
      "SVC\n",
      "***Results****\n",
      "Accuracy 0.8585858585858586\n",
      "Log Loss 4.676194291770735\n",
      "======================================\n",
      "==============================\n",
      "NuSVC\n",
      "***Results****\n",
      "Accuracy 0.9292929292929293\n",
      "Log Loss 2.399257243610487\n",
      "======================================\n",
      "==============================\n",
      "DecisionTreeClassifier\n",
      "***Results****\n",
      "Accuracy 0.6262626262626263\n",
      "Log Loss 12.908431581936412\n",
      "======================================\n",
      "==============================\n",
      "RandomForestClassifier\n",
      "***Results****\n",
      "Accuracy 0.9747474747474747\n",
      "Log Loss 0.7754982522507964\n",
      "======================================\n",
      "==============================\n",
      "AdaBoostClassifier\n",
      "***Results****\n",
      "Accuracy 0.045454545454545456\n",
      "Log Loss 4.200034383188024\n",
      "======================================\n",
      "==============================\n",
      "GradientBoostingClassifier\n",
      "***Results****\n",
      "Accuracy 0.601010101010101\n",
      "Log Loss 2.4294833318104625\n",
      "======================================\n",
      "==============================\n",
      "GaussianNB\n",
      "***Results****\n",
      "Accuracy 0.5707070707070707\n",
      "Log Loss 14.827252492813216\n",
      "======================================\n",
      "==============================\n",
      "LinearDiscriminantAnalysis\n",
      "***Results****\n",
      "Accuracy 0.9797979797979798\n",
      "Log Loss 0.2299344821365334\n",
      "======================================\n",
      "==============================\n",
      "QuadraticDiscriminantAnalysis\n",
      "***Results****\n",
      "Accuracy 0.04040404040404041\n",
      "Log Loss 33.14327027794469\n",
      "======================================\n"
     ]
    }
   ],
   "source": [
    "for clf in classifiers:\n",
    "    clf.fit(X_train,y_train)\n",
    "    name = clf.__class__.__name__\n",
    "    print('='*30)\n",
    "    print(name)\n",
    "    print('***Results****')\n",
    "    train_predictions = clf.predict(X_valid)\n",
    "    acc = accuracy_score(y_valid,train_predictions)\n",
    "    print(f\"Accuracy {acc}\")\n",
    "    \n",
    "    # consider applying loss function as a forward pass\n",
    "    predicted_probabilities = clf.predict_proba(X_valid)\n",
    "    ll = log_loss(y_valid, predicted_probabilities)\n",
    "    print(f\"Log Loss {ll}\")\n",
    "    log_entry = pd.DataFrame([[name,acc*100,ll]], columns = log_cols)\n",
    "    log = log.append(log_entry)\n",
    "    print(\"=\"*38)"
   ]
  },
  {
   "cell_type": "code",
   "execution_count": 92,
   "metadata": {},
   "outputs": [],
   "source": [
    "predicted_probabilities = clf.predict_proba(X_valid)"
   ]
  },
  {
   "cell_type": "code",
   "execution_count": 104,
   "metadata": {},
   "outputs": [
    {
     "data": {
      "text/plain": [
       "array([[0., 0., 0., ..., 0., 0., 1.],\n",
       "       [0., 1., 0., ..., 0., 0., 0.],\n",
       "       [0., 0., 0., ..., 0., 0., 0.],\n",
       "       ...,\n",
       "       [0., 0., 0., ..., 0., 0., 0.],\n",
       "       [0., 0., 0., ..., 0., 0., 0.],\n",
       "       [0., 0., 0., ..., 0., 0., 0.]])"
      ]
     },
     "execution_count": 104,
     "metadata": {},
     "output_type": "execute_result"
    }
   ],
   "source": [
    "predicted_probabilities"
   ]
  },
  {
   "cell_type": "code",
   "execution_count": 99,
   "metadata": {},
   "outputs": [
    {
     "data": {
      "text/html": [
       "<div>\n",
       "<style scoped>\n",
       "    .dataframe tbody tr th:only-of-type {\n",
       "        vertical-align: middle;\n",
       "    }\n",
       "\n",
       "    .dataframe tbody tr th {\n",
       "        vertical-align: top;\n",
       "    }\n",
       "\n",
       "    .dataframe thead th {\n",
       "        text-align: right;\n",
       "    }\n",
       "</style>\n",
       "<table border=\"1\" class=\"dataframe\">\n",
       "  <thead>\n",
       "    <tr style=\"text-align: right;\">\n",
       "      <th></th>\n",
       "      <th>Classifier</th>\n",
       "      <th>Accuracy</th>\n",
       "      <th>Log Loss</th>\n",
       "    </tr>\n",
       "  </thead>\n",
       "  <tbody>\n",
       "    <tr>\n",
       "      <th>0</th>\n",
       "      <td>KNeighborsClassifier</td>\n",
       "      <td>88.888889</td>\n",
       "      <td>1.575508</td>\n",
       "    </tr>\n",
       "    <tr>\n",
       "      <th>0</th>\n",
       "      <td>SVC</td>\n",
       "      <td>85.858586</td>\n",
       "      <td>4.676194</td>\n",
       "    </tr>\n",
       "    <tr>\n",
       "      <th>0</th>\n",
       "      <td>NuSVC</td>\n",
       "      <td>92.929293</td>\n",
       "      <td>2.399257</td>\n",
       "    </tr>\n",
       "    <tr>\n",
       "      <th>0</th>\n",
       "      <td>DecisionTreeClassifier</td>\n",
       "      <td>62.626263</td>\n",
       "      <td>12.908432</td>\n",
       "    </tr>\n",
       "    <tr>\n",
       "      <th>0</th>\n",
       "      <td>RandomForestClassifier</td>\n",
       "      <td>97.474747</td>\n",
       "      <td>0.775498</td>\n",
       "    </tr>\n",
       "    <tr>\n",
       "      <th>0</th>\n",
       "      <td>AdaBoostClassifier</td>\n",
       "      <td>4.545455</td>\n",
       "      <td>4.200034</td>\n",
       "    </tr>\n",
       "    <tr>\n",
       "      <th>0</th>\n",
       "      <td>GradientBoostingClassifier</td>\n",
       "      <td>60.101010</td>\n",
       "      <td>2.429483</td>\n",
       "    </tr>\n",
       "    <tr>\n",
       "      <th>0</th>\n",
       "      <td>GaussianNB</td>\n",
       "      <td>57.070707</td>\n",
       "      <td>14.827252</td>\n",
       "    </tr>\n",
       "    <tr>\n",
       "      <th>0</th>\n",
       "      <td>LinearDiscriminantAnalysis</td>\n",
       "      <td>97.979798</td>\n",
       "      <td>0.229934</td>\n",
       "    </tr>\n",
       "    <tr>\n",
       "      <th>0</th>\n",
       "      <td>QuadraticDiscriminantAnalysis</td>\n",
       "      <td>4.040404</td>\n",
       "      <td>33.143270</td>\n",
       "    </tr>\n",
       "  </tbody>\n",
       "</table>\n",
       "</div>"
      ],
      "text/plain": [
       "                      Classifier   Accuracy   Log Loss\n",
       "0           KNeighborsClassifier  88.888889   1.575508\n",
       "0                            SVC  85.858586   4.676194\n",
       "0                          NuSVC  92.929293   2.399257\n",
       "0         DecisionTreeClassifier  62.626263  12.908432\n",
       "0         RandomForestClassifier  97.474747   0.775498\n",
       "0             AdaBoostClassifier   4.545455   4.200034\n",
       "0     GradientBoostingClassifier  60.101010   2.429483\n",
       "0                     GaussianNB  57.070707  14.827252\n",
       "0     LinearDiscriminantAnalysis  97.979798   0.229934\n",
       "0  QuadraticDiscriminantAnalysis   4.040404  33.143270"
      ]
     },
     "execution_count": 99,
     "metadata": {},
     "output_type": "execute_result"
    }
   ],
   "source": [
    "log"
   ]
  },
  {
   "cell_type": "markdown",
   "metadata": {},
   "source": [
    "## References\n",
    "Original Implementation in Kaggle : https://www.kaggle.com/jeffd23/10-classifier-showdown-in-scikit-learn"
   ]
  }
 ],
 "metadata": {
  "kernelspec": {
   "display_name": "Python 3",
   "language": "python",
   "name": "python3"
  },
  "language_info": {
   "codemirror_mode": {
    "name": "ipython",
    "version": 3
   },
   "file_extension": ".py",
   "mimetype": "text/x-python",
   "name": "python",
   "nbconvert_exporter": "python",
   "pygments_lexer": "ipython3",
   "version": "3.6.7"
  }
 },
 "nbformat": 4,
 "nbformat_minor": 4
}
